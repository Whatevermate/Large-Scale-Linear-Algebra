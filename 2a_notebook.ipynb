{
 "cells": [
  {
   "cell_type": "markdown",
   "metadata": {},
   "source": [
    "# Classification of Handwritten Digits with SVD"
   ]
  },
  {
   "cell_type": "code",
   "execution_count": 62,
   "metadata": {},
   "outputs": [],
   "source": [
    "# -*- coding: utf-8 -*-\n",
    "import numpy as np\n",
    "import pandas as pd\n",
    "from scipy.linalg import svd\n",
    "import matplotlib.pyplot as plt\n",
    "from sklearn.metrics import classification_report, confusion_matrix\n",
    "from time import time\n",
    "\n",
    "% matplotlib inline"
   ]
  },
  {
   "cell_type": "code",
   "execution_count": 63,
   "metadata": {
    "collapsed": true
   },
   "outputs": [],
   "source": [
    "# Reads the train and test sets into dataframes\n",
    "\n",
    "x_train = pd.read_excel('data.xlsx', sheetname='azip', header = None, index_col = None).transpose()\n",
    "y_train = pd.read_excel('data.xlsx', sheetname='dzip', header = None, index_col = None).transpose()\n",
    "x_test = pd.read_excel('data.xlsx', sheetname='testzip', header = None, index_col = None).transpose()\n",
    "y_test = pd.read_excel('data.xlsx', sheetname='dtest', header = None, index_col = None).transpose()\n",
    "\n",
    "# Breaks the train matrix into different matrices based on class and casts them into numpy arrays\n",
    "train_arrays = {}\n",
    "\n",
    "for i in range(10):\n",
    "    train_arrays[i] = x_train[y_train.loc[:,0] == i]    \n",
    "\n",
    "for key in train_arrays.keys():\n",
    "    train_arrays[key] = train_arrays[key].as_matrix().T\n"
   ]
  },
  {
   "cell_type": "code",
   "execution_count": 64,
   "metadata": {
    "collapsed": true
   },
   "outputs": [],
   "source": [
    "# Applys SVD to each of the aforementioned matrices and stores them into a dictionary\n",
    "\n",
    "svd_train = {}\n",
    "\n",
    "for i in range(10):\n",
    "    svd_train[i] = svd(train_arrays[i])\n",
    "\n",
    "# Casts test data into numpy arrays\n",
    "\n",
    "test_matrix = x_test.as_matrix()\n",
    "y_test = y_test.as_matrix()\n",
    "    \n",
    "    \n",
    "# Defines the simple truncated SVD for the first question with a universal k for all classes\n",
    "\n",
    "def truncate_u(svd_train, k):\n",
    "    truncated_u = {}\n",
    "    for key in svd_train:\n",
    "        truncated_u[key] = svd_train[key][0][:,:k]\n",
    "    return truncated_u\n",
    "\n",
    "# Defines the truncated SVD for the third question with different k for each class \n",
    "# based on precision and recall of the first question\n",
    "    \n",
    "def truncate_u_diff_k(svd_train):\n",
    "    truncated_u = {}\n",
    "    for key in svd_train: \n",
    "        if key == 0 or key == 1:\n",
    "            truncated_u[key] = svd_train[key][0][:,:10]\n",
    "        elif key == 3:\n",
    "            truncated_u[key] = svd_train[key][0][:,:22]\n",
    "        elif key == 5:\n",
    "            truncated_u[key] = svd_train[key][0][:,:28]\n",
    "        else:\n",
    "            truncated_u[key] = svd_train[key][0][:,:16]\n",
    "    return truncated_u"
   ]
  },
  {
   "cell_type": "code",
   "execution_count": 65,
   "metadata": {
    "collapsed": true
   },
   "outputs": [],
   "source": [
    "# Defines the classifier letting us choose different k and a choice for use_diff_k for each class which \n",
    "# calls the truncated_u_diff_k from above\n",
    "# Returns y_pred tuples of (class, minimum norm) and accuracy (or accuracies if many k)\n",
    "\n",
    "def classification(num_sv, svd_train, test_matrix, y_test, use_diff_k = 'no'):\n",
    "    accuracies = []\n",
    "    \n",
    "    for k in num_sv:\n",
    "        if use_diff_k == 'yes':\n",
    "            truncated_u_train = truncate_u_diff_k(svd_train)           # Use different number of singular vectors for each class\n",
    "        else:    \n",
    "            truncated_u_train = truncate_u(svd_train, k)               # Use k singular vectors for all classes\n",
    "        y_pred = []\n",
    "        \n",
    "        for z in test_matrix:                                          # Checks all test vectors\n",
    "            res_norms = []\n",
    "            for key in truncated_u_train:                              # Iterate over truncated matrix to calculate the residual\n",
    "                shape = (truncated_u_train[key].shape)[0]              # norms\n",
    "                I = np.eye(shape)\n",
    "                U = truncated_u_train[key]\n",
    "                res_norm = np.linalg.norm(np.dot(I - np.dot(U, U.T), z))\n",
    "                res_norms.append((key,res_norm))\n",
    "            y_pred.append(min(res_norms, key = lambda t:t[1]))         # Find the minimum residual norm and assign vector\n",
    "                                                                       # to the respective class\n",
    "        \n",
    "        # Calculates error\n",
    "        misclassified = [y_pred[i][0] for i in range(len(y_pred)) if y_test[i]!=y_pred[i][0]]\n",
    "        \n",
    "        # Calculates accuracy (or accuracies if the function is run for different number of singular vectors - num_sv)\n",
    "        accuracy = 1-(len(misclassified)/len(y_pred))\n",
    "        accuracies.append(accuracy)\n",
    "    \n",
    "    return ([y_pred[i][0] for i in range(len(y_pred))], accuracies)                                                       "
   ]
  },
  {
   "cell_type": "markdown",
   "metadata": {},
   "source": [
    "# Task 1"
   ]
  },
  {
   "cell_type": "code",
   "execution_count": 66,
   "metadata": {},
   "outputs": [
    {
     "data": {
      "image/png": "[encoded data removed]",
      "text/plain": [
       "<matplotlib.figure.Figure at 0xc9b4898>"
      ]
     },
     "metadata": {},
     "output_type": "display_data"
    }
   ],
   "source": [
    "# Classification for different number of singular vectors between 5 and 20\n",
    "k = np.array([i for i in range(5,21)])\n",
    "y_pred, accuracies = classification(k, svd_train, test_matrix, y_test)\n",
    "\n",
    "# Plot accuracies against number of singular vectors\n",
    "accuracies = np.array(accuracies)\n",
    "plt.plot(k, accuracies, color='b', marker='o',linewidth=2, markersize=12)\n",
    "plt.xlabel('Number of singular vectors')\n",
    "plt.ylabel('Accuracy')\n",
    "plt.show()"
   ]
  },
  {
   "cell_type": "markdown",
   "metadata": {},
   "source": [
    "Based on the above plot, we decide to use 15 singular vectors. Although 15 SVs do not provide us with the optimal accuracy, it's 3 SVs less than the optimal and for larger datasets this would have an impact on running time. Also, the two accuracies are pretty close."
   ]
  },
  {
   "cell_type": "code",
   "execution_count": 67,
   "metadata": {},
   "outputs": [
    {
     "name": "stdout",
     "output_type": "stream",
     "text": [
      "Accuracy:  0.9412057797708022\n",
      "             precision    recall  f1-score   support\n",
      "\n",
      "          0       0.94      0.99      0.96       359\n",
      "          1       0.97      0.98      0.98       264\n",
      "          2       0.95      0.90      0.93       198\n",
      "          3       0.90      0.89      0.90       166\n",
      "          4       0.93      0.93      0.93       200\n",
      "          5       0.92      0.88      0.89       160\n",
      "          6       0.98      0.95      0.96       170\n",
      "          7       0.93      0.96      0.95       147\n",
      "          8       0.95      0.92      0.94       166\n",
      "          9       0.93      0.93      0.93       177\n",
      "\n",
      "avg / total       0.94      0.94      0.94      2007\n",
      "\n",
      "[[355   0   2   0   1   0   0   0   0   1]\n",
      " [  0 260   0   0   3   0   1   0   0   0]\n",
      " [  9   1 179   3   2   1   0   1   2   0]\n",
      " [  3   0   3 148   1   8   0   1   2   0]\n",
      " [  1   1   0   0 186   1   3   3   0   5]\n",
      " [  4   1   2   9   0 140   0   0   1   3]\n",
      " [  3   1   0   0   2   1 162   0   1   0]\n",
      " [  0   1   1   0   3   0   0 141   0   1]\n",
      " [  3   0   1   4   0   2   0   1 153   2]\n",
      " [  0   3   0   0   3   0   0   4   2 165]]\n"
     ]
    }
   ],
   "source": [
    "# Prints classification report and confusion matrix for 15 singular vectors\n",
    "results = np.array(classification([15], svd_train, test_matrix, y_test))\n",
    "y_pred = results[0]\n",
    "accuracy = results[1]\n",
    "clf_report = classification_report(y_test, y_pred)\n",
    "conf_matrix = confusion_matrix(y_test, y_pred)\n",
    "print(\"Accuracy: \", accuracy[0])                     \n",
    "print(clf_report)                                     # Precision, recall, f1 score, support for each class\n",
    "print(conf_matrix)                                    # Shows which classes are easily \n",
    "                                                      # confused for other classes during classification"
   ]
  },
  {
   "cell_type": "markdown",
   "metadata": {},
   "source": [
    "# Task 2"
   ]
  },
  {
   "cell_type": "markdown",
   "metadata": {},
   "source": [
    "It is obvious both from the confusion matrix and the precision and recall scores that not all digits are confused to the same extent. We can see that classes 5 and 3 are the most easily confused ones.\n",
    "\n",
    "In the section below some instances of these classes are printed, so that we can assess the quality of the images. Indeed, they are quite different and in some cases they could be misinterpreted for other digits."
   ]
  },
  {
   "cell_type": "code",
   "execution_count": 68,
   "metadata": {},
   "outputs": [
    {
     "data": {
      "text/plain": [
       "<matplotlib.image.AxesImage at 0xbb9ff60>"
      ]
     },
     "execution_count": 68,
     "metadata": {},
     "output_type": "execute_result"
    },
    {
     "data": {
      "image/png": "[encoded data removed]",
      "text/plain": [
       "<matplotlib.figure.Figure at 0xbb9e240>"
      ]
     },
     "metadata": {},
     "output_type": "display_data"
    }
   ],
   "source": [
    "test_images = [train_arrays[5].T[i,:].reshape(16,16) for i in range(15)]\n",
    "fig, (ax1, ax2, ax3, ax4, ax5, ax6) = plt.subplots(figsize=(5, 5), ncols=6)\n",
    "ax1.imshow(test_images[0].reshape(16,16))\n",
    "ax2.imshow(test_images[5].reshape(16,16))\n",
    "ax3.imshow(test_images[7].reshape(16,16)) \n",
    "ax4.imshow(test_images[14].reshape(16,16)) \n",
    "ax5.imshow(test_images[9].reshape(16,16)) \n",
    "ax6.imshow(test_images[12].reshape(16,16)) "
   ]
  },
  {
   "cell_type": "code",
   "execution_count": 69,
   "metadata": {},
   "outputs": [
    {
     "data": {
      "text/plain": [
       "<matplotlib.image.AxesImage at 0xa94c3c8>"
      ]
     },
     "execution_count": 69,
     "metadata": {},
     "output_type": "execute_result"
    },
    {
     "data": {
      "image/png": "[encoded data removed]",
      "text/plain": [
       "<matplotlib.figure.Figure at 0xbc9f160>"
      ]
     },
     "metadata": {},
     "output_type": "display_data"
    }
   ],
   "source": [
    "test_images = [train_arrays[3].T[i,:].reshape(16,16) for i in range(15)]\n",
    "fig2, (ax7, ax8, ax9, ax10, ax11, ax12) = plt.subplots(figsize=(5, 5), ncols=6)\n",
    "ax7.imshow(test_images[0].reshape(16,16))\n",
    "ax8.imshow(test_images[5].reshape(16,16))\n",
    "ax9.imshow(test_images[7].reshape(16,16)) \n",
    "ax10.imshow(test_images[14].reshape(16,16)) \n",
    "ax11.imshow(test_images[9].reshape(16,16)) \n",
    "ax12.imshow(test_images[12].reshape(16,16)) "
   ]
  },
  {
   "cell_type": "markdown",
   "metadata": {},
   "source": [
    "# Task 3"
   ]
  },
  {
   "cell_type": "code",
   "execution_count": 70,
   "metadata": {},
   "outputs": [
    {
     "name": "stdout",
     "output_type": "stream",
     "text": [
      "Experimental accuracy: 0.9287493771798705, Time in sec: 8.02445912361145 \n",
      "Original accuracy: 0.9412057797708022, Time in sec: 8.090462684631348 \n"
     ]
    }
   ],
   "source": [
    "# Select different number of singular vectors based on classification report recall (descending)\n",
    "start1 = time()\n",
    "exprmnt_accuracy = classification([15], svd_train, test_matrix, y_test, use_diff_k = 'yes')[1]\n",
    "end1 = time()\n",
    "elapsed1 = end1 - start1\n",
    "\n",
    "# Original function with 15 singular vectors for reference\n",
    "start2 = time()\n",
    "original_accuracy = classification([15], svd_train, test_matrix, y_test, use_diff_k = 'no')[1]\n",
    "end2 = time()\n",
    "elapsed2 = end2 - start2\n",
    "\n",
    "print(\"Experimental accuracy: {}, Time in sec: {} \".format(exprmnt_accuracy[0], elapsed1))\n",
    "print(\"Original accuracy: {}, Time in sec: {} \".format(original_accuracy[0], elapsed2))"
   ]
  },
  {
   "cell_type": "markdown",
   "metadata": {},
   "source": [
    "We conclude that there is not really a reason to assign different k to different classes. The accuracy dropped despite the fact that we reduced the number of singular vectors for class 0, 1 by only 6, but increased the number of singular vectors for easily confused classes, namely 3 and 5 by 6 and 12 respectively. For the rest of the classes the number of singular vectors remained the same (15)."
   ]
  },
  {
   "cell_type": "markdown",
   "metadata": {},
   "source": [
    "# Optional Task: Two - stage algorithm with SVD"
   ]
  },
  {
   "cell_type": "markdown",
   "metadata": {},
   "source": [
    "In the section below we define a similar function to the one defined in the compulsory part of the project. The only difference is that we first check the classification capability for a single singular vector by checking the value of the minimum norm with respect to that of the second smaller norm and if it is larger than 80% of the latter, we decide to go with the original method, where 15 singular vectors are chosen."
   ]
  },
  {
   "cell_type": "code",
   "execution_count": 71,
   "metadata": {},
   "outputs": [
    {
     "name": "stdout",
     "output_type": "stream",
     "text": [
      "Time:  10.96062684059143\n",
      "Accuracy:  0.8794220229197808\n",
      "             precision    recall  f1-score   support\n",
      "\n",
      "          0       0.87      0.96      0.91       359\n",
      "          1       0.88      0.99      0.93       264\n",
      "          2       0.91      0.83      0.87       198\n",
      "          3       0.79      0.88      0.83       166\n",
      "          4       0.80      0.87      0.83       200\n",
      "          5       0.90      0.76      0.82       160\n",
      "          6       0.95      0.86      0.91       170\n",
      "          7       0.88      0.93      0.90       147\n",
      "          8       0.95      0.80      0.87       166\n",
      "          9       0.95      0.78      0.85       177\n",
      "\n",
      "avg / total       0.88      0.88      0.88      2007\n",
      "\n",
      "[[345   0   3   1   4   1   4   0   0   1]\n",
      " [  0 261   0   0   3   0   0   0   0   0]\n",
      " [ 11   4 164   7   7   1   0   2   2   0]\n",
      " [  7   0   4 146   2   5   0   0   2   0]\n",
      " [  1  15   2   0 174   0   3   3   0   2]\n",
      " [ 13   2   1  18   1 121   0   0   1   3]\n",
      " [ 16   0   3   0   2   1 147   0   1   0]\n",
      " [  0   3   3   0   4   0   0 136   0   1]\n",
      " [  4   3   1  13   4   5   0   2 133   1]\n",
      " [  0   9   0   0  17   1   0  11   1 138]]\n"
     ]
    }
   ],
   "source": [
    "def optional(svd_train, test_matrix, y_test): \n",
    "    accuracies = []\n",
    "    \n",
    "    truncated_u_train = truncate_u(svd_train, 1)\n",
    "    truncated_u_train_bad = truncate_u(svd_train, 15)\n",
    "    y_pred = []\n",
    "\n",
    "    for z in test_matrix:\n",
    "        res_norms = []\n",
    "        for key in truncated_u_train:\n",
    "            shape = (truncated_u_train[key].shape)[0]\n",
    "            I = np.eye(shape)\n",
    "            U = truncated_u_train[key]\n",
    "            res_norm = np.linalg.norm(np.dot(I - np.dot(U, U.T), z))\n",
    "            res_norms.append((key,res_norm))\n",
    "        res_norms_sorted = sorted(res_norms, key = lambda t:t[1])\n",
    "        \n",
    "        if res_norms_sorted[0][0] >= 0.8 * res_norms_sorted[1][0]:\n",
    "            for key in truncated_u_train_bad:    \n",
    "                shape2 = (truncated_u_train_bad[key].shape)[0]\n",
    "                I2 = np.eye(shape2)\n",
    "                U2 = truncated_u_train_bad[key]\n",
    "                res_norm = np.linalg.norm(np.dot(I2 - np.dot(U2, U2.T), z))\n",
    "                res_norms.append((key,res_norm))\n",
    "            y_pred.append(min(res_norms, key = lambda t: t[1]))\n",
    "            \n",
    "        else:\n",
    "            y_pred.append(res_norms_sorted[0])\n",
    "\n",
    "    misclassified = [y_pred[i][0] for i in range(len(y_pred)) if y_test[i]!=y_pred[i][0]]\n",
    "\n",
    "    accuracy = 1-(len(misclassified)/len(y_pred))\n",
    "    accuracies.append(accuracy)\n",
    "    \n",
    "    return ([y_pred[i][0] for i in range(len(y_pred))], accuracies)\n",
    "\n",
    "start3 = time()\n",
    "clf_results = optional(svd_train, test_matrix, y_test)\n",
    "end3 = time()\n",
    "\n",
    "y_pred_optional = clf_results[0]\n",
    "accuracies_optional = clf_results[1]\n",
    "clf_report_optional = classification_report(y_test, y_pred_optional)\n",
    "conf_matrix_optional = confusion_matrix(y_test, y_pred_optional)\n",
    "\n",
    "print(\"Time: \", end3-start3)\n",
    "print(\"Accuracy: \", accuracies_optional[0])\n",
    "print(clf_report_optional)\n",
    "print(conf_matrix_optional)"
   ]
  },
  {
   "cell_type": "markdown",
   "metadata": {},
   "source": [
    "The total accuracy is considerably lower with this method, as expected and we can see from the precision, recall and f1 scores that in general we have more false positives and false negatives than before. The confusion matrix gives us the same idea about misclassifying certain classes, which were not as highly confused before.\n",
    "\n",
    "However, the running time is also higher. This is due to the fact that we need to calculate the residual norms based on a single singular vector and check if the smaller one is too far from the second smaller one and if this is clause is not satisfied, then we need to recalculate the residual norms based on 15 singular vectors. This means that in many cases we need to calculate the norms twice, which adds to the running time.\n",
    "\n",
    "All in all however, we can conclude that the SVD, in general, produces impressive classification results even for such a small number of selected singular vectors."
   ]
  }
 ],
 "metadata": {
  "kernelspec": {
   "display_name": "Python 3",
   "language": "python",
   "name": "python3"
  },
  "language_info": {
   "codemirror_mode": {
    "name": "ipython",
    "version": 3
   },
   "file_extension": ".py",
   "mimetype": "text/x-python",
   "name": "python",
   "nbconvert_exporter": "python",
   "pygments_lexer": "ipython3",
   "version": "3.6.3"
  }
 },
 "nbformat": 4,
 "nbformat_minor": 2
}
